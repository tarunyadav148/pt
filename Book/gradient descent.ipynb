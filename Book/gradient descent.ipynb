{
 "cells": [
  {
   "cell_type": "code",
   "execution_count": 10,
   "id": "bce08d05-f927-4b4e-85c2-eb4983be2ac5",
   "metadata": {},
   "outputs": [
    {
     "name": "stdout",
     "output_type": "stream",
     "text": [
      "Iteration 0, Error: 2162.7679162810828\n",
      "Iteration 100, Error: 374.9685694557538\n",
      "Iteration 200, Error: 8.306687242367204\n",
      "Iteration 300, Error: 4.980996379672555\n",
      "Iteration 400, Error: 2.725306284053513\n",
      "Iteration 500, Error: 1.7589062436726286\n",
      "Iteration 600, Error: 1.29952837940887\n",
      "Iteration 700, Error: 0.990175010378829\n",
      "Iteration 800, Error: 0.8610046906511102\n",
      "Iteration 900, Error: 0.8120124909121387\n",
      "Final Coefficients: [ 0.21087909 -0.00686516  0.38336975 -0.04944817]\n",
      "Predicted SepalWidthCm for 2.0: 1.3350424481523866\n"
     ]
    }
   ],
   "source": [
    "import pandas as pd\n",
    "import numpy as np\n",
    "\n",
    "iris_data = pd.read_csv('iris.csv')\n",
    "\n",
    "data = iris_data[['SepalLengthCm', 'SepalWidthCm']]\n",
    "\n",
    "polynomial_order = int(input(\"Enter the polynomial order: \"))\n",
    "learning_rate = float(input(\"Enter the learning rate: \"))\n",
    "\n",
    "coefficients = np.random.rand(polynomial_order + 1)\n",
    "\n",
    "def polynomial(x, coefficients):\n",
    "    return sum(coefficients[i] * x**i for i in range(len(coefficients)))\n",
    "\n",
    "num_iterations = 1000\n",
    "clip_value = 1.0\n",
    "\n",
    "for iteration in range(num_iterations):\n",
    "    predicted_values = [polynomial(x, coefficients) for x in data['SepalLengthCm']]\n",
    "    \n",
    "    error = np.mean((predicted_values - data['SepalWidthCm'])**2)\n",
    "    \n",
    "    gradients = np.zeros(polynomial_order + 1)\n",
    "    for i in range(polynomial_order + 1):\n",
    "        gradients[i] = -2 * np.mean((data['SepalWidthCm'] - predicted_values) * data['SepalLengthCm']**i)\n",
    "    \n",
    "    gradients = np.clip(gradients, -clip_value, clip_value)\n",
    "    \n",
    "    coefficients -= learning_rate * gradients\n",
    "\n",
    "    if iteration % 100 == 0:\n",
    "        print(f'Iteration {iteration}, Error: {error}')\n",
    "\n",
    "print(f'Final Coefficients: {coefficients}')\n",
    "\n",
    "new_input = float(input(\"Enter a value for SepalLengthCm to predict SepalWidthCm: \"))\n",
    "predicted_sepal_width = polynomial(new_input, coefficients)\n",
    "print(f'Predicted SepalWidthCm for {new_input}: {predicted_sepal_width}')\n"
   ]
  }
 ],
 "metadata": {
  "kernelspec": {
   "display_name": "Python 3 (ipykernel)",
   "language": "python",
   "name": "python3"
  },
  "language_info": {
   "codemirror_mode": {
    "name": "ipython",
    "version": 3
   },
   "file_extension": ".py",
   "mimetype": "text/x-python",
   "name": "python",
   "nbconvert_exporter": "python",
   "pygments_lexer": "ipython3",
   "version": "3.11.4"
  }
 },
 "nbformat": 4,
 "nbformat_minor": 5
}
