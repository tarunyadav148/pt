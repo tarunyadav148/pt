{
 "cells": [
  {
   "cell_type": "code",
   "execution_count": 3,
   "id": "9c16143e-3230-44f0-a289-22e5acb62567",
   "metadata": {},
   "outputs": [
    {
     "name": "stdout",
     "output_type": "stream",
     "text": [
      "Predicted rating for movieId 123 by userId 1: 4.0\n"
     ]
    }
   ],
   "source": [
    "import pandas as pd\n",
    "import numpy as np\n",
    "\n",
    "ratings_df = pd.read_csv('ratings.csv')\n",
    "\n",
    "user_item_matrix = pd.pivot_table(ratings_df, values='rating', index='userId', columns='movieId')\n",
    "user_item_matrix = user_item_matrix.fillna(0)\n",
    "\n",
    "def cosine_similarity_matrix(matrix):\n",
    "    norm = np.linalg.norm(matrix, axis=1)\n",
    "    return np.dot(matrix, matrix.T) / (np.outer(norm, norm) + 1e-8)\n",
    "\n",
    "user_similarity = cosine_similarity_matrix(user_item_matrix.values)\n",
    "\n",
    "def get_top_k_similar_users(user_id, k=7):\n",
    "    user_similarity_scores = user_similarity[user_id]\n",
    "    similar_users_indices = np.argsort(user_similarity_scores)[::-1]\n",
    "    similar_users_indices = similar_users_indices[1:]\n",
    "    return similar_users_indices[:k]\n",
    "\n",
    "def predict_rating(user_id, movie_id, k=7):\n",
    "    similar_users_indices = get_top_k_similar_users(user_id, k)\n",
    "    numerator = 0\n",
    "    denominator = 0\n",
    "\n",
    "    for i in similar_users_indices:\n",
    "        if user_item_matrix.iloc[i, movie_id] > 0:\n",
    "            similarity_score = user_similarity[user_id][i]\n",
    "            numerator += similarity_score * user_item_matrix.iloc[i, movie_id]\n",
    "            denominator += similarity_score\n",
    "\n",
    "    if denominator == 0:\n",
    "        return 0.0\n",
    "\n",
    "    predicted_rating = numerator / denominator\n",
    "    predicted_rating = round(predicted_rating * 2) / 2\n",
    "    return predicted_rating\n",
    "\n",
    "user_id = 1\n",
    "movie_id = 123\n",
    "predicted_rating = predict_rating(user_id, movie_id)\n",
    "print(f\"Predicted rating for movieId {movie_id} by userId {user_id}: {predicted_rating}\")\n"
   ]
  }
 ],
 "metadata": {
  "kernelspec": {
   "display_name": "Python 3 (ipykernel)",
   "language": "python",
   "name": "python3"
  },
  "language_info": {
   "codemirror_mode": {
    "name": "ipython",
    "version": 3
   },
   "file_extension": ".py",
   "mimetype": "text/x-python",
   "name": "python",
   "nbconvert_exporter": "python",
   "pygments_lexer": "ipython3",
   "version": "3.11.4"
  }
 },
 "nbformat": 4,
 "nbformat_minor": 5
}
