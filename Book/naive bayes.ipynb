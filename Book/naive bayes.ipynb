{
 "cells": [
  {
   "cell_type": "code",
   "execution_count": 14,
   "id": "37449ee0-399e-4670-8b75-3da648347384",
   "metadata": {},
   "outputs": [
    {
     "name": "stdout",
     "output_type": "stream",
     "text": [
      "Input: 'Good Product' => Predicted label: P\n",
      "Input: 'Terrible' => Predicted label: N\n",
      "Input: 'Amazing' => Predicted label: P\n"
     ]
    }
   ],
   "source": [
    "import numpy as np\n",
    "import pandas as pd\n",
    "from sklearn.feature_extraction.text import CountVectorizer\n",
    "\n",
    "class NaiveBayesClassifier:\n",
    "    def __init__(self, alpha=1.0):\n",
    "        self.alpha = alpha\n",
    "        self.class_probabilities = {}\n",
    "        self.word_probabilities = {}\n",
    "\n",
    "    def fit(self, X, y):\n",
    "        unique_classes, class_counts = np.unique(y, return_counts=True)\n",
    "        total_samples = len(y)\n",
    "        for i, class_name in enumerate(unique_classes):\n",
    "            self.class_probabilities[class_name] = (class_counts[i] + self.alpha) / (total_samples + len(unique_classes) * self.alpha)\n",
    "\n",
    "        self.word_probabilities = {}\n",
    "        for class_name in unique_classes:\n",
    "            class_samples = X[y == class_name]\n",
    "            word_counts = np.sum(class_samples, axis=0)\n",
    "            total_words_in_class = np.sum(word_counts)\n",
    "            self.word_probabilities[class_name] = (word_counts + self.alpha) / (total_words_in_class + X.shape[1] * self.alpha)\n",
    "\n",
    "    def predict(self, X):\n",
    "        predictions = []\n",
    "        for sample in X:\n",
    "            best_class = None\n",
    "            max_log_prob = float('-inf')\n",
    "            for class_name, class_prob in self.class_probabilities.items():\n",
    "                log_prob = np.log(class_prob)\n",
    "                for i, word_count in enumerate(sample):\n",
    "                    if word_count > 0:\n",
    "                        log_prob += word_count * np.log(self.word_probabilities[class_name][i])\n",
    "                if log_prob > max_log_prob:\n",
    "                    max_log_prob = log_prob\n",
    "                    best_class = class_name\n",
    "            predictions.append(best_class)\n",
    "        return predictions\n",
    "\n",
    "if __name__ == \"__main__\":\n",
    "    data = pd.read_csv(\"data.csv\")\n",
    "\n",
    "    X = data['text']\n",
    "    y = data['label']\n",
    "\n",
    "    vectorizer = CountVectorizer()\n",
    "    X = vectorizer.fit_transform(X)\n",
    "\n",
    "    classifier = NaiveBayesClassifier()\n",
    "    classifier.fit(X.toarray(), y)\n",
    "\n",
    "    new_data = pd.read_csv(\"new_data.csv\")\n",
    "    new_input_texts = new_data['text']\n",
    "\n",
    "    new_input_vector = vectorizer.transform(new_input_texts).toarray()\n",
    "\n",
    "    predictions = classifier.predict(new_input_vector)\n",
    "\n",
    "    for i, prediction in enumerate(predictions):\n",
    "        print(f\"Input: '{new_input_texts[i]}' => Predicted label: {prediction}\")\n"
   ]
  },
  {
   "cell_type": "code",
   "execution_count": null,
   "id": "1cef5192-d99f-453a-9aeb-dbdd0773a882",
   "metadata": {},
   "outputs": [],
   "source": []
  }
 ],
 "metadata": {
  "kernelspec": {
   "display_name": "Python 3 (ipykernel)",
   "language": "python",
   "name": "python3"
  },
  "language_info": {
   "codemirror_mode": {
    "name": "ipython",
    "version": 3
   },
   "file_extension": ".py",
   "mimetype": "text/x-python",
   "name": "python",
   "nbconvert_exporter": "python",
   "pygments_lexer": "ipython3",
   "version": "3.11.4"
  }
 },
 "nbformat": 4,
 "nbformat_minor": 5
}
