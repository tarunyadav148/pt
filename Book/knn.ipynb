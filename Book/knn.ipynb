{
 "cells": [
  {
   "cell_type": "code",
   "execution_count": 7,
   "id": "33aea582-1e3e-4c7f-90f8-e1dccc9d52cd",
   "metadata": {},
   "outputs": [],
   "source": [
    "import numpy as np\n",
    "import pandas as pd\n",
    "\n",
    "data = pd.read_csv('ClimateDataKNN.csv', delimiter='\\t')\n",
    "\n",
    "X = data.iloc[:, 2:-1].values\n",
    "y = data.iloc[:, -1].values\n",
    "\n",
    "class_labels = np.unique(y)\n",
    "class_label_mapping = {label: i for i, label in enumerate(class_labels)}\n",
    "y = np.array([class_label_mapping[label] for label in y])\n",
    "\n",
    "def euclidean_distance(instance1, instance2):\n",
    "    return np.sqrt(np.sum((instance1 - instance2) ** 2))\n",
    "\n",
    "def k_nearest_neighbors(test_instance, k):\n",
    "    distances = np.array([euclidean_distance(test_instance, instance) for instance in X])\n",
    "    nearest_indices = np.argpartition(distances, k)[:k]\n",
    "    return y[nearest_indices]\n",
    "\n",
    "k = int(input(\"Enter the value of k: \"))\n",
    "\n",
    "predicted_classes = np.array([np.bincount(k_nearest_neighbors(instance, k)).argmax() for instance in X])\n",
    "correct_predictions = np.sum(predicted_classes == y)\n",
    "incorrect_predictions = len(y) - correct_predictions\n",
    "\n",
    "print(f'Correct Predictions: {correct_predictions}')\n",
    "print(f'Incorrect Predictions: {incorrect_predictions}')\n",
    "print(f'Accuracy: {correct_predictions / len(y) * 100:.2f}%')"
   ]
  }
 ],
 "metadata": {
  "kernelspec": {
   "display_name": "Python 3 (ipykernel)",
   "language": "python",
   "name": "python3"
  },
  "language_info": {
   "codemirror_mode": {
    "name": "ipython",
    "version": 3
   },
   "file_extension": ".py",
   "mimetype": "text/x-python",
   "name": "python",
   "nbconvert_exporter": "python",
   "pygments_lexer": "ipython3",
   "version": "3.11.4"
  }
 },
 "nbformat": 4,
 "nbformat_minor": 5
}
