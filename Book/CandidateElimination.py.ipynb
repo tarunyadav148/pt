{
 "cells": [
  {
   "cell_type": "code",
   "execution_count": 3,
   "id": "dfc284d8-c3ce-448a-8873-9c4f79b1d878",
   "metadata": {},
   "outputs": [
    {
     "name": "stdout",
     "output_type": "stream",
     "text": [
      "Specific Hypothesis:\n",
      "['sunny', 'warm', '?', 'strong', '?', '?']\n",
      "General Hypothesis:\n",
      "['sunny', 'warm', '?', '?', '?', '?']\n"
     ]
    }
   ],
   "source": [
    "import pandas as pd\n",
    "\n",
    "data = pd.read_csv(\"a1.csv\")\n",
    "\n",
    "specific_hypothesis = [\"0\"] * (len(data.columns) - 1)\n",
    "general_hypothesis = [\"?\"] * (len(data.columns) - 1)\n",
    "\n",
    "for index, row in data.iterrows():\n",
    "    attributes = row[:-1]\n",
    "    target = row[-1]\n",
    "\n",
    "    if target == \"yes\":\n",
    "        for i in range(len(attributes)):\n",
    "            if specific_hypothesis[i] == \"0\":\n",
    "                specific_hypothesis[i] = attributes[i]\n",
    "            elif specific_hypothesis[i] != attributes[i]:\n",
    "                specific_hypothesis[i] = \"?\"\n",
    "        for i in range(len(general_hypothesis)):\n",
    "            if attributes[i] != specific_hypothesis[i]:\n",
    "                general_hypothesis[i] = specific_hypothesis[i]\n",
    "    else:\n",
    "        for i in range(len(attributes)):\n",
    "            if specific_hypothesis[i] != attributes[i]:\n",
    "                general_hypothesis[i] = specific_hypothesis[i]\n",
    "\n",
    "print(\"Specific Hypothesis:\")\n",
    "print(specific_hypothesis)\n",
    "print(\"General Hypothesis:\")\n",
    "print(general_hypothesis)"
   ]
  },
  {
   "cell_type": "code",
   "execution_count": null,
   "id": "51def2ec-1738-4cd1-b79c-a21d5c5f4f53",
   "metadata": {},
   "outputs": [],
   "source": []
  }
 ],
 "metadata": {
  "kernelspec": {
   "display_name": "Python 3 (ipykernel)",
   "language": "python",
   "name": "python3"
  },
  "language_info": {
   "codemirror_mode": {
    "name": "ipython",
    "version": 3
   },
   "file_extension": ".py",
   "mimetype": "text/x-python",
   "name": "python",
   "nbconvert_exporter": "python",
   "pygments_lexer": "ipython3",
   "version": "3.11.4"
  }
 },
 "nbformat": 4,
 "nbformat_minor": 5
}
