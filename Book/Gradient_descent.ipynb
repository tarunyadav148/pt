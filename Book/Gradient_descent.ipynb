{
 "cells": [
  {
   "cell_type": "code",
   "execution_count": 2,
   "id": "93ddf373",
   "metadata": {},
   "outputs": [],
   "source": [
    "import numpy as np\n",
    "import pandas as pd\n",
    "from sklearn import datasets"
   ]
  },
  {
   "cell_type": "code",
   "execution_count": 130,
   "id": "71c0048f",
   "metadata": {},
   "outputs": [],
   "source": [
    "def step_gradient(x,y, learning_rate, m):\n",
    "    n = x.shape[1]\n",
    "    m_slope = np.ones(n)\n",
    "    M = x.shape[0]\n",
    "    m_slope = np.dot((y -np.dot(m,x.T)).T,x)*(-2/M)\n",
    "    \n",
    "    new_m = m - learning_rate * m_slope\n",
    "    return new_m"
   ]
  },
  {
   "cell_type": "code",
   "execution_count": 134,
   "id": "3e4cfd5d",
   "metadata": {},
   "outputs": [],
   "source": [
    "def cost(x,y , m):\n",
    "    total_cost = 0\n",
    "    M = x.shape[0]\n",
    "    for i in range(M):\n",
    "        xi = x.iloc[i,:]\n",
    "        yi = y.iloc[i]\n",
    "        total_cost += (1/M)*((yi - np.dot(m,xi))**2)\n",
    "    return total_cost"
   ]
  },
  {
   "cell_type": "code",
   "execution_count": 169,
   "id": "65bfa6c7",
   "metadata": {},
   "outputs": [],
   "source": [
    "def gd(points , learning_rate,num_iterations):\n",
    "    n = points.shape[1]\n",
    "    m = np.ones(n)\n",
    "    x = points.iloc[:,:-1]\n",
    "    ones = np.ones(points.shape[0])\n",
    "    x['ones'] = ones\n",
    "    y = points.iloc[:,-1]\n",
    "    for i in range(num_iterations):\n",
    "        m = step_gradient(x,y, learning_rate,m)\n",
    "#         print(cost(x,y,m))\n",
    "    return m"
   ]
  },
  {
   "cell_type": "code",
   "execution_count": 170,
   "id": "51af6505",
   "metadata": {},
   "outputs": [],
   "source": [
    "def run():\n",
    "    data =  pd.read_csv('LR.csv')\n",
    "    learning_rate = 0.00096\n",
    "    num_iterations = 10000\n",
    "    m = gd(data,learning_rate,num_iterations)\n",
    "    for i in range(len(m)):\n",
    "        print('m'+ str(i) + ' value is ', m[i])"
   ]
  },
  {
   "cell_type": "code",
   "execution_count": 171,
   "id": "ad01d88b",
   "metadata": {
    "scrolled": false
   },
   "outputs": [
    {
     "name": "stdout",
     "output_type": "stream",
     "text": [
      "m0 value is  0.2647428246015475\n",
      "m1 value is  1.1227724737694211\n"
     ]
    }
   ],
   "source": [
    "run()"
   ]
  },
  {
   "cell_type": "code",
   "execution_count": null,
   "id": "89c7201c",
   "metadata": {},
   "outputs": [],
   "source": []
  }
 ],
 "metadata": {
  "kernelspec": {
   "display_name": "Python 3 (ipykernel)",
   "language": "python",
   "name": "python3"
  },
  "language_info": {
   "codemirror_mode": {
    "name": "ipython",
    "version": 3
   },
   "file_extension": ".py",
   "mimetype": "text/x-python",
   "name": "python",
   "nbconvert_exporter": "python",
   "pygments_lexer": "ipython3",
   "version": "3.9.13"
  }
 },
 "nbformat": 4,
 "nbformat_minor": 5
}
